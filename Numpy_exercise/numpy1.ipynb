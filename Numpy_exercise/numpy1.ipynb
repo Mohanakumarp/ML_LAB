{
 "cells": [
  {
   "cell_type": "markdown",
   "metadata": {},
   "source": [
    "1D array creation (arange)"
   ]
  },
  {
   "cell_type": "code",
   "execution_count": 8,
   "metadata": {},
   "outputs": [
    {
     "name": "stdout",
     "output_type": "stream",
     "text": [
      "[0 1 2 3 4 5 6 7 8 9]\n"
     ]
    }
   ],
   "source": [
    "import numpy as np\n",
    "arr=np.arange(10)\n",
    "print(arr)"
   ]
  },
  {
   "cell_type": "markdown",
   "metadata": {},
   "source": [
    "Change Dimension (reshape)"
   ]
  },
  {
   "cell_type": "code",
   "execution_count": 9,
   "metadata": {},
   "outputs": [
    {
     "name": "stdout",
     "output_type": "stream",
     "text": [
      "[[0 1]\n",
      " [2 3]\n",
      " [4 5]\n",
      " [6 7]\n",
      " [8 9]]\n"
     ]
    }
   ],
   "source": [
    "arr=arr.reshape(5,2)\n",
    "print(arr)"
   ]
  },
  {
   "cell_type": "markdown",
   "metadata": {},
   "source": [
    "Multiplying two matrix (dot)"
   ]
  },
  {
   "cell_type": "code",
   "execution_count": 12,
   "metadata": {},
   "outputs": [
    {
     "name": "stdout",
     "output_type": "stream",
     "text": [
      "[[0.21813107 0.206648   0.98046454 0.87825027]\n",
      " [0.49224596 0.18588291 0.50193854 0.99288321]\n",
      " [0.79868828 0.50432339 0.17598419 0.607268  ]\n",
      " [0.39644106 0.32602367 0.3985923  0.37962804]\n",
      " [0.91608127 0.02339415 0.40015289 0.73512086]]\n",
      "[[0.73003629 0.28788311 0.63219117 0.07678365 0.91530273]\n",
      " [0.61656135 0.51703523 0.61800729 0.09006956 0.73873927]\n",
      " [0.72072014 0.307784   0.34719274 0.34728147 0.95673755]\n",
      " [0.54227965 0.122929   0.86668131 0.2043804  0.82742293]]\n",
      "[[1.46955255 0.57937427 1.36718377 0.5553559  2.0170466 ]\n",
      " [1.3741432  0.51436011 1.46085328 0.43177865 1.88963086]\n",
      " [1.35016216 0.61949779 1.40400746 0.29198011 1.7744432 ]\n",
      " [0.98356802 0.45204204 0.91951642 0.27581725 1.29917124]\n",
      " [1.37023582 0.48934825 1.36964192 0.36165714 1.846871  ]]\n"
     ]
    }
   ],
   "source": [
    "m1=np.random.random((5,4))\n",
    "m2=np.random.random((4,5))\n",
    "result=np.dot(m1,m2)\n",
    "print(m1)\n",
    "print(m2)\n",
    "print(result)"
   ]
  },
  {
   "cell_type": "markdown",
   "metadata": {},
   "source": [
    "Extract all odd numbers from an array of 1-10"
   ]
  },
  {
   "cell_type": "code",
   "execution_count": 14,
   "metadata": {},
   "outputs": [
    {
     "name": "stdout",
     "output_type": "stream",
     "text": [
      "[1 3 5 7 9]\n"
     ]
    }
   ],
   "source": [
    "arr=np.arange(1,11)\n",
    "odd=arr[arr%2!=0]\n",
    "print(odd)"
   ]
  },
  {
   "cell_type": "markdown",
   "metadata": {},
   "source": [
    "Replace all odd numbers in an array of 1-10 with -1\n"
   ]
  },
  {
   "cell_type": "code",
   "execution_count": 17,
   "metadata": {},
   "outputs": [
    {
     "name": "stdout",
     "output_type": "stream",
     "text": [
      "[-1  2 -1  4 -1  6 -1  8 -1 10]\n"
     ]
    }
   ],
   "source": [
    "arr=np.arange(1,11)\n",
    "arr[arr%2!=0]=-1\n",
    "print(arr)"
   ]
  },
  {
   "cell_type": "markdown",
   "metadata": {},
   "source": [
    "Create a random 3x3 matrix and normalize it."
   ]
  },
  {
   "cell_type": "code",
   "execution_count": 20,
   "metadata": {},
   "outputs": [
    {
     "name": "stdout",
     "output_type": "stream",
     "text": [
      "[[0.4001178  0.81571648 0.53931882]\n",
      " [0.09493111 0.20159193 0.90458868]\n",
      " [0.45056229 0.46944842 0.49365171]]\n"
     ]
    }
   ],
   "source": [
    "matrix=np.random.random((3,3))\n",
    "normalized=(matrix-np.mean(matrix))/np.std(matrix)\n",
    "print(matrix)"
   ]
  },
  {
   "cell_type": "markdown",
   "metadata": {},
   "source": [
    "Calculate the sum of the diagonal elements of a 3x3 matrix."
   ]
  },
  {
   "cell_type": "code",
   "execution_count": 25,
   "metadata": {},
   "outputs": [
    {
     "name": "stdout",
     "output_type": "stream",
     "text": [
      "[[0.62369818 0.09934044 0.11672518]\n",
      " [0.11510596 0.41081103 0.46435988]\n",
      " [0.88946161 0.94643877 0.70839256]]\n",
      "1.7429017694261468\n"
     ]
    }
   ],
   "source": [
    "arr=np.random.random((3,3))\n",
    "diagonal_sum=np.trace(arr)\n",
    "print(arr)\n",
    "print(diagonal_sum)"
   ]
  },
  {
   "cell_type": "markdown",
   "metadata": {},
   "source": []
  },
  {
   "cell_type": "code",
   "execution_count": null,
   "metadata": {},
   "outputs": [],
   "source": []
  }
 ],
 "metadata": {
  "kernelspec": {
   "display_name": "Python 3",
   "language": "python",
   "name": "python3"
  },
  "language_info": {
   "codemirror_mode": {
    "name": "ipython",
    "version": 3
   },
   "file_extension": ".py",
   "mimetype": "text/x-python",
   "name": "python",
   "nbconvert_exporter": "python",
   "pygments_lexer": "ipython3",
   "version": "3.12.7"
  }
 },
 "nbformat": 4,
 "nbformat_minor": 2
}
